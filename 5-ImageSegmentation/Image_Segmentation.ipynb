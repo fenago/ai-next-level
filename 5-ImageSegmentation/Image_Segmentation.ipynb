{
 "cells": [
  {
   "cell_type": "markdown",
   "metadata": {},
   "source": [
    "### Image Segmentation using Python’s scikit-image module\n",
    "The process of splitting images into multiple layers, represented by a smart, pixel-wise mask is known as Image Segmentation. It involves merging, blocking, and separating an image from its integration level. Splitting a picture into a collection of Image Objects with comparable properties is the first stage in image processing. Scikit-Image is the most popular tool/module for image processing in Python. \n",
    "\n"
   ]
  },
  {
   "cell_type": "markdown",
   "metadata": {},
   "source": [
    "### Converting Image Format\n"
   ]
  },
  {
   "cell_type": "markdown",
   "metadata": {},
   "source": [
    "#### RGB to Grayscale\n",
    "\n",
    "rgb2gray module of skimage package is used to convert a 3-channel RGB Image to one channel monochrome image. In order to apply filters and other processing techniques, the expected input is a two-dimensional vector i.e. a monochrome image. \n",
    "\n",
    "**skimage.color.rgb2gray()** function is used to convert an RGB image to Grayscale format\n",
    "\n",
    "**Syntax** : skimage.color.rgb2gray(image)\n",
    "\n",
    "**Parameters** : image : An image – RGB format\n",
    "\n",
    "**Return** : The image – Grayscale format"
   ]
  },
  {
   "cell_type": "code",
   "execution_count": null,
   "metadata": {},
   "outputs": [],
   "source": [
    "# Importing Necessary Libraries\n",
    "from skimage import data\n",
    "from skimage.color import rgb2gray\n",
    "import matplotlib.pyplot as plt\n",
    "\n",
    "# Setting the plot size to 15,15\n",
    "plt.figure(figsize=(15, 15))\n",
    "\n",
    "# Sample Image of scikit-image package\n",
    "coffee = data.coffee()\n",
    "plt.subplot(1, 2, 1)\n",
    "\n",
    "# Displaying the sample image\n",
    "plt.imshow(coffee)\n",
    "\n",
    "# Converting RGB image to Monochrome\n",
    "gray_coffee = rgb2gray(coffee)\n",
    "plt.subplot(1, 2, 2)\n",
    "\n",
    "# Displaying the sample image - Monochrome\n",
    "# Format\n",
    "plt.imshow(gray_coffee, cmap=\"gray\")\n"
   ]
  },
  {
   "cell_type": "markdown",
   "metadata": {},
   "source": [
    "**Explanation:** By using rgb2gray() function, the 3-channel RGB image of shape (400, 600, 3) is converted to a single-channel monochromatic image of shape (400, 300). We will be using grayscale images for the proper implementation of thresholding functions. The average of the red, green, and blue pixel values for each pixel to get the grayscale value is a simple approach to convert a color picture 3D array to a grayscale 2D array. This creates an acceptable gray approximation by combining the lightness or brightness contributions of each color band.\n",
    "\n"
   ]
  },
  {
   "cell_type": "code",
   "execution_count": null,
   "metadata": {},
   "outputs": [],
   "source": []
  },
  {
   "cell_type": "markdown",
   "metadata": {},
   "source": [
    "#### RGB to HSV\n",
    "\n",
    "The HSV (Hue, Saturation, Value) color model remaps the RGB basic colors into dimensions that are simpler to comprehend for humans. The RGB color space describes the proportions of red, green, and blue in a colour. In the HSV color system, colors are defined in terms of Hue, Saturation, and Value.\n",
    "\n",
    "skimage.color.rgb2hsv() function is used to convert an RGB image to HSV format\n",
    "\n",
    "**Syntax** : skimage.color.rgb2hsv(image)\n",
    "\n",
    "**Parameters** : image : An image – RGB format\n",
    "\n",
    "**Return** : The image – HSV format"
   ]
  },
  {
   "cell_type": "code",
   "execution_count": null,
   "metadata": {},
   "outputs": [],
   "source": [
    "# Importing Necessary Libraries\n",
    "from skimage import data\n",
    "from skimage.color import rgb2hsv\n",
    "import matplotlib.pyplot as plt\n",
    "\n",
    "# Setting the plot size to 15,15\n",
    "plt.figure(figsize=(15, 15))\n",
    "\n",
    "# Sample Image of scikit-image package\n",
    "coffee = data.coffee()\n",
    "plt.subplot(1, 2, 1)\n",
    "\n",
    "# Displaying the sample image\n",
    "plt.imshow(coffee)\n",
    "\n",
    "# Converting RGB Image to HSV Image\n",
    "hsv_coffee = rgb2hsv(coffee)\n",
    "plt.subplot(1, 2, 2)\n",
    "\n",
    "# Displaying the sample image - HSV Format\n",
    "hsv_coffee_colorbar = plt.imshow(hsv_coffee)\n",
    "\n",
    "# Adjusting colorbar to fit the size of the image\n",
    "plt.colorbar(hsv_coffee_colorbar, fraction=0.046, pad=0.04)\n"
   ]
  },
  {
   "cell_type": "code",
   "execution_count": null,
   "metadata": {},
   "outputs": [],
   "source": []
  },
  {
   "cell_type": "markdown",
   "metadata": {},
   "source": [
    "### Supervised Segmentation\n",
    "For this type of segmentation to proceed, it requires external input. This includes things like setting a threshold, converting formats, and correcting external biases.\n",
    "\n",
    "**Segmentation by Thresholding – Manual Input**\n",
    "\n",
    "An external pixel value ranging from 0 to 255 is used to separate the picture from the background. This results in a modified picture that is larger or less than the specified threshold."
   ]
  },
  {
   "cell_type": "code",
   "execution_count": null,
   "metadata": {},
   "outputs": [],
   "source": [
    "# Importing Necessary Libraries\n",
    "# Displaying the sample image - Monochrome Format\n",
    "from skimage import data\n",
    "from skimage import filters\n",
    "from skimage.color import rgb2gray\n",
    "import matplotlib.pyplot as plt\n",
    "\n",
    "# Sample Image of scikit-image package\n",
    "coffee = data.coffee()\n",
    "gray_coffee = rgb2gray(coffee)\n",
    "\n",
    "# Setting the plot size to 15,15\n",
    "plt.figure(figsize=(15, 15))\n",
    "\n",
    "for i in range(10):\n",
    "\n",
    "    # Iterating different thresholds\n",
    "    binarized_gray = (gray_coffee > i*0.1)*1\n",
    "    plt.subplot(5,2,i+1)\n",
    "\n",
    "    # Rounding of the threshold\n",
    "    # value to 1 decimal point\n",
    "    plt.title(\"Threshold: >\"+str(round(i*0.1,1)))\n",
    "\n",
    "    # Displaying the binarized image\n",
    "    # of various thresholds\n",
    "    plt.imshow(binarized_gray, cmap = 'gray')\n",
    "\n",
    "    plt.tight_layout()\n"
   ]
  },
  {
   "cell_type": "markdown",
   "metadata": {},
   "source": [
    "**Explanation:** The first step in this thresholding is implemented by normalizing an image from 0 – 255 to 0 – 1. A threshold value is fixed and on the comparison, if evaluated to be true, then we store the result as 1, otherwise 0. This globally binarized image can be used to detect edges as well as analyze contrast and color difference.\n",
    "\n"
   ]
  },
  {
   "cell_type": "code",
   "execution_count": null,
   "metadata": {},
   "outputs": [],
   "source": []
  },
  {
   "cell_type": "markdown",
   "metadata": {},
   "source": [
    "### Segmentation by Thresholding  Using skimage.filters module\n",
    "\n",
    "The Niblack and Sauvola thresholding technique is specifically developed to improve the quality of microscopic images. It’s a local thresholding approach that changes the threshold depending on the local mean and standard deviation for each pixel in a sliding window. Otsu’s thresholding technique works by iterating over all possible threshold values and computing a measure of dispersion for the sample points on either side of the threshold, i.e. either in foreground or background. The goal is to determine the smallest foreground and background spreads possible. \n",
    "\n",
    "**skimage.filters.threshold_otsu()** function is used to return threshold value based on Otsu’s method.\n",
    "\n",
    "Syntax : skimage.filters.threshold_otsu(image)\n",
    "\n",
    "**skimage.filters.threshold_niblack()** function is a local thresholding function that returns a threshold value for every pixel based on Niblack’s method.\n",
    "\n",
    "Syntax : skimage.filters.threshold_niblack(image)\n",
    "\n",
    "    \n",
    "**skimage.filters.threshold_sauvola()** function is a local thresholding function that returns a threshold value for every pixel based on Sauvola’s method.\n",
    " \n",
    "\n",
    "Syntax : skimage.filters.threshold_sauvola(image)\n"
   ]
  },
  {
   "cell_type": "code",
   "execution_count": null,
   "metadata": {},
   "outputs": [],
   "source": [
    "# Importing necessary libraries\n",
    "from skimage import data\n",
    "from skimage import filters\n",
    "from skimage.color import rgb2gray\n",
    "import matplotlib.pyplot as plt\n",
    "\n",
    "# Setting plot size to 15, 15\n",
    "plt.figure(figsize=(15, 15))\n",
    "\n",
    "# Sample Image of scikit-image package\n",
    "coffee = data.coffee()\n",
    "gray_coffee = rgb2gray(coffee)\n",
    "\n",
    "# Computing Otsu's thresholding value\n",
    "threshold = filters.threshold_otsu(gray_coffee)\n",
    "\n",
    "# Computing binarized values using the obtained\n",
    "# threshold\n",
    "binarized_coffee = (gray_coffee > threshold)*1\n",
    "plt.subplot(2,2,1)\n",
    "plt.title(\"Threshold: >\"+str(threshold))\n",
    "\n",
    "# Displaying the binarized image\n",
    "plt.imshow(binarized_coffee, cmap = \"gray\")\n",
    "\n",
    "# Computing Ni black's local pixel\n",
    "# threshold values for every pixel\n",
    "threshold = filters.threshold_niblack(gray_coffee)\n",
    "\n",
    "# Computing binarized values using the obtained \n",
    "# threshold\n",
    "binarized_coffee = (gray_coffee > threshold)*1\n",
    "plt.subplot(2,2,2)\n",
    "plt.title(\"Niblack Thresholding\")\n",
    "\n",
    "# Displaying the binarized image\n",
    "plt.imshow(binarized_coffee, cmap = \"gray\")\n",
    "\n",
    "# Computing Sauvola's local pixel threshold\n",
    "# values for every pixel - Not Binarized\n",
    "threshold = filters.threshold_sauvola(gray_coffee)\n",
    "plt.subplot(2,2,3)\n",
    "plt.title(\"Sauvola Thresholding\")\n",
    "\n",
    "# Displaying the local threshold values\n",
    "plt.imshow(threshold, cmap = \"gray\")\n",
    "\n",
    "# Computing Sauvola's local pixel\n",
    "# threshold values for every pixel - Binarized\n",
    "binarized_coffee = (gray_coffee > threshold)*1\n",
    "plt.subplot(2,2,4)\n",
    "plt.title(\"Sauvola Thresholding - Converting to 0's and 1's\")\n",
    "\n",
    "# Displaying the binarized image\n",
    "plt.imshow(binarized_coffee, cmap = \"gray\")\n"
   ]
  },
  {
   "cell_type": "markdown",
   "metadata": {},
   "source": [
    "**Explanation:** These local thresholding techniques use mean and standard deviation as their primary computational parameters. Their final local pixel value is felicitated by other positive parameters too. This is done to ensure the separation between the object and the background. \n"
   ]
  },
  {
   "cell_type": "code",
   "execution_count": null,
   "metadata": {},
   "outputs": [],
   "source": []
  },
  {
   "cell_type": "markdown",
   "metadata": {},
   "source": [
    "### Active Contour Segmentation\n",
    "The concept of energy functional reduction underpins the active contour method. An active contour is a segmentation approach that uses energy forces and restrictions to separate the pixels of interest from the remainder of the picture for further processing and analysis. The term “active contour” refers to a model in the segmentation process. \n",
    "\n",
    "\n",
    "skimage.segmentation.active_contour() function active contours by fitting snakes to image features\n",
    "\n",
    "Syntax : skimage.segmentation.active_contour(image, snake)"
   ]
  },
  {
   "cell_type": "code",
   "execution_count": null,
   "metadata": {},
   "outputs": [],
   "source": [
    "# Importing necessary libraries\n",
    "import numpy as np\n",
    "import matplotlib.pyplot as plt\n",
    "from skimage.color import rgb2gray\n",
    "from skimage import data\n",
    "from skimage.filters import gaussian\n",
    "from skimage.segmentation import active_contour\n",
    "\n",
    "# Sample Image of scikit-image package\n",
    "astronaut = data.astronaut()\n",
    "gray_astronaut = rgb2gray(astronaut)\n",
    "\n",
    "# Applying Gaussian Filter to remove noise\n",
    "gray_astronaut_noiseless = gaussian(gray_astronaut, 1)\n",
    "\n",
    "# Localising the circle's center at 220, 110\n",
    "x1 = 220 + 100*np.cos(np.linspace(0, 2*np.pi, 500))\n",
    "x2 = 100 + 100*np.sin(np.linspace(0, 2*np.pi, 500))\n",
    "\n",
    "# Generating a circle based on x1, x2\n",
    "snake = np.array([x1, x2]).T\n",
    "\n",
    "# Computing the Active Contour for the given image\n",
    "astronaut_snake = active_contour(gray_astronaut_noiseless,\n",
    "\t\t\t\t\t\t\t\tsnake)\n",
    "\n",
    "fig = plt.figure(figsize=(10, 10))\n",
    "\n",
    "# Adding subplots to display the markers\n",
    "ax = fig.add_subplot(111)\n",
    "\n",
    "# Plotting sample image\n",
    "ax.imshow(gray_astronaut_noiseless)\n",
    "\n",
    "# Plotting the face boundary marker\n",
    "ax.plot(astronaut_snake[:, 0],\n",
    "\t\tastronaut_snake[:, 1], \n",
    "\t\t'-b', lw=5)\n",
    "\n",
    "# Plotting the circle around face\n",
    "ax.plot(snake[:, 0], snake[:, 1], '--r', lw=5)\n"
   ]
  },
  {
   "cell_type": "markdown",
   "metadata": {},
   "source": [
    "**Explanation:** The active contour model is among the dynamic approaches in image segmentation that uses the image’s energy restrictions and pressures to separate regions of interest. For segmentation, an active contour establishes a different border or curvature for each section of the target object. The active contour model is a technique for minimizing the energy function resulting from external and internal forces. An exterior force is specified as curves or surfaces, while an interior force is defined as picture data. The external force is a force that allows initial outlines to automatically transform into the forms of objects in pictures.\n",
    "\n"
   ]
  },
  {
   "cell_type": "code",
   "execution_count": null,
   "metadata": {},
   "outputs": [],
   "source": []
  },
  {
   "cell_type": "markdown",
   "metadata": {},
   "source": [
    "#### Chan-Vese Segmentation\n",
    "\n",
    "The well-known Chan-Vese iterative segmentation method splits a picture into two groups with the lowest intra-class variance. This algorithm uses sets that are iteratively evolved to minimize energy, which is characterized by weights corresponding to the total of variations in intensity from the overall average outside the segmented region, the sum of differences from the overall average within the feature vector, and a term that is directly proportional to the length of the fragmented region’s edge.\n",
    " \n",
    "\n",
    "skimage.segmentation.chan_vese() function is used to segment objects using the Chan-Vese Algorithm whose boundaries are not clearly defined."
   ]
  },
  {
   "cell_type": "code",
   "execution_count": null,
   "metadata": {},
   "outputs": [],
   "source": [
    "import matplotlib.pyplot as plt\n",
    "from skimage.color import rgb2gray\n",
    "from skimage import data, img_as_float\n",
    "from skimage.segmentation import chan_vese\n",
    "fig, axes = plt.subplots(1, 3, figsize=(10, 10))\n",
    "\n",
    "# Sample Image of scikit-image package\n",
    "astronaut = data.astronaut()\n",
    "gray_astronaut = rgb2gray(astronaut)\n",
    "\n",
    "# Computing the Chan VESE segmentation technique\n",
    "chanvese_gray_astronaut = chan_vese(gray_astronaut,\n",
    "\t\t\t\t\t\t\t\t\tmax_iter=100,\n",
    "\t\t\t\t\t\t\t\t\textended_output=True)\n",
    "\n",
    "ax = axes.flatten()\n",
    "\n",
    "# Plotting the original image\n",
    "ax[0].imshow(gray_astronaut, cmap=\"gray\")\n",
    "ax[0].set_title(\"Original Image\")\n",
    "\n",
    "# Plotting the segmented - 100 iterations image\n",
    "ax[1].imshow(chanvese_gray_astronaut[0], cmap=\"gray\")\n",
    "title = \"Chan-Vese segmentation - {} iterations\".format(len(chanvese_gray_astronaut[2]))\n",
    "\n",
    "ax[1].set_title(title)\n",
    "\n",
    "# Plotting the final level set\n",
    "ax[2].imshow(chanvese_gray_astronaut[1], cmap=\"gray\")\n",
    "ax[2].set_title(\"Final Level Set\")\n",
    "plt.show()\n"
   ]
  },
  {
   "cell_type": "markdown",
   "metadata": {},
   "source": [
    "**Explanation**: The Chan-Vese model for active contours is a strong and versatile approach for segmenting a wide range of pictures, including some that would be difficult to segment using “traditional” methods such as thresholding or gradient-based methods. This model is commonly used in medical imaging, particularly for brain, heart, and trachea segmentation. The model is based on an energy minimization issue that may be recast in a level set formulation to make the problem easier to solve.\n"
   ]
  },
  {
   "cell_type": "code",
   "execution_count": null,
   "metadata": {},
   "outputs": [],
   "source": []
  },
  {
   "cell_type": "markdown",
   "metadata": {},
   "source": [
    "### Unsupervised Segmentation\n",
    "\n",
    "##### Mark Boundaries \n",
    "This technique produces an image with highlighted borders between labeled areas, where the pictures were segmented using the SLIC method. \n",
    "\n",
    "**skimage.segmentation.mark_boundaries()** function is to return image with boundaries between labeled regions.\n",
    "\n",
    "Syntax : skimage.segmentation.mark_boundaries(image)\n"
   ]
  },
  {
   "cell_type": "code",
   "execution_count": null,
   "metadata": {},
   "outputs": [],
   "source": [
    "# Importing required boundaries\n",
    "from skimage.segmentation import slic, mark_boundaries\n",
    "from skimage.data import astronaut\n",
    "\n",
    "# Setting the plot figure as 15, 15\n",
    "plt.figure(figsize=(15, 15))\n",
    "\n",
    "# Sample Image of scikit-image package\n",
    "astronaut = astronaut()\n",
    "\n",
    "# Applying SLIC segmentation\n",
    "# for the edges to be drawn over\n",
    "astronaut_segments = slic(astronaut,\n",
    "\t\t\t\t\t\tn_segments=100,\n",
    "\t\t\t\t\t\tcompactness=1)\n",
    "\n",
    "plt.subplot(1, 2, 1)\n",
    "\n",
    "# Plotting the original image\n",
    "plt.imshow(astronaut)\n",
    "\n",
    "# Detecting boundaries for labels\n",
    "plt.subplot(1, 2, 2)\n",
    "\n",
    "# Plotting the output of marked_boundaries\n",
    "# function i.e. the image with segmented boundaries\n",
    "plt.imshow(mark_boundaries(astronaut, astronaut_segments))\n"
   ]
  },
  {
   "cell_type": "markdown",
   "metadata": {},
   "source": [
    "**Explanation:** We cluster the image into 100 segments with compactness = 1 and this segmented image will act as a labeled array for the mark_boundaries() function. Each segment of the clustered image is differentiated by an integer value and the result of mark_boundaries is the superimposed boundaries between the labels.\n",
    "\n"
   ]
  },
  {
   "cell_type": "markdown",
   "metadata": {},
   "source": []
  },
  {
   "cell_type": "markdown",
   "metadata": {},
   "source": [
    "#### Simple Linear Iterative Clustering\n",
    "By combining pixels in the image plane based on their color similarity and proximity, this method generates superpixels. Simple Linear Iterative Clustering is the most up-to-date approach for segmenting superpixels, and it takes very little computing power. In a nutshell, the technique clusters pixels in a five-dimensional color and picture plane space to create small, nearly uniform superpixels.\n",
    "\n",
    "skimage.segmentation.slic() function is used to segment image using k-means clustering."
   ]
  },
  {
   "cell_type": "code",
   "execution_count": null,
   "metadata": {},
   "outputs": [],
   "source": [
    "# Importing required libraries\n",
    "from skimage.segmentation import slic\n",
    "from skimage.data import astronaut\n",
    "from skimage.color import label2rgb\n",
    "\n",
    "# Setting the plot size as 15, 15\n",
    "plt.figure(figsize=(15,15))\n",
    "\n",
    "# Sample Image of scikit-image package\n",
    "astronaut = astronaut()\n",
    "\n",
    "# Applying Simple Linear Iterative\n",
    "# Clustering on the image\n",
    "# - 50 segments & compactness = 10\n",
    "astronaut_segments = slic(astronaut,\n",
    "\t\t\t\t\t\tn_segments=50,\n",
    "\t\t\t\t\t\tcompactness=10)\n",
    "plt.subplot(1,2,1)\n",
    "\n",
    "# Plotting the original image\n",
    "plt.imshow(astronaut)\n",
    "plt.subplot(1,2,2)\n",
    "\n",
    "# Converts a label image into\n",
    "# an RGB color image for visualizing\n",
    "# the labeled regions. \n",
    "plt.imshow(label2rgb(astronaut_segments,\n",
    "\t\t\t\t\tastronaut,\n",
    "\t\t\t\t\tkind = 'avg'))\n"
   ]
  },
  {
   "cell_type": "markdown",
   "metadata": {},
   "source": [
    "**Explanation**: This technique creates superpixels by grouping pixels in the picture plane based on their color similarity and closeness. This is done in 5-D space, where XY is the pixel location. Because the greatest possible distance between two colors in CIELAB space is restricted, but the spatial distance on the XY plane is dependent on the picture size, we must normalize the spatial distances in order to apply the Euclidean distance in this 5D space. As a result, a new distance measure that takes superpixel size into account was created to cluster pixels in this 5D space. \n",
    "\n"
   ]
  },
  {
   "cell_type": "code",
   "execution_count": null,
   "metadata": {},
   "outputs": [],
   "source": []
  },
  {
   "cell_type": "markdown",
   "metadata": {},
   "source": [
    "#### Felzenszwalb’s Segmentation \n",
    "Felsenszwalb’s efficient graph-based picture segmentation is computed. It produces an over-segmentation of an RGB picture on the image grid using a quick, minimal spanning tree-based clustering. This may be used to isolate features and identify edges. This algorithm uses the Euclidean distance between pixels. skimage.segmentation.felzenszwalb() function is used to compute Felsenszwalb’s efficient graph-based image segmentation.  \n",
    "\n",
    "Syntax : skimage.segmentation.felzenszwalb(image)"
   ]
  },
  {
   "cell_type": "code",
   "execution_count": null,
   "metadata": {},
   "outputs": [],
   "source": [
    "# Importing the required libraries\n",
    "from skimage.segmentation import felzenszwalb\n",
    "from skimage.color import label2rgb\n",
    "from skimage.data import astronaut\n",
    "\n",
    "# Setting the figure size as 15, 15\n",
    "plt.figure(figsize=(15,15))\n",
    "\n",
    "# Sample Image of scikit-image package\n",
    "astronaut = astronaut()\n",
    "\n",
    "# computing the Felzenszwalb's\n",
    "# Segmentation with sigma = 5 and minimum\n",
    "# size = 100\n",
    "astronaut_segments = felzenszwalb(astronaut,\n",
    "\t\t\t\t\t\t\t\tscale = 2,\n",
    "\t\t\t\t\t\t\t\tsigma=5,\n",
    "\t\t\t\t\t\t\t\tmin_size=100)\n",
    "\n",
    "# Plotting the original image\n",
    "plt.subplot(1,2,1)\n",
    "plt.imshow(astronaut)\n",
    "\n",
    "# Marking the boundaries of\n",
    "# Felzenszwalb's segmentations\n",
    "plt.subplot(1,2,2)\n",
    "plt.imshow(mark_boundaries(astronaut,\n",
    "\t\t\t\t\t\tastronaut_segments))\n"
   ]
  },
  {
   "cell_type": "markdown",
   "metadata": {},
   "source": [
    "**Explanation**: Using a rapid, minimal tree structure-based clustering on the picture grid, creates an over-segmentation of a multichannel image. The parameter scale determines the level of observation. Less and larger parts are associated with a greater scale. The diameter of a Gaussian kernel is sigma, which is used to smooth the picture before segmentation. Scale is the sole way to control the quantity of generated segments as well as their size. The size of individual segments within a picture might change dramatically depending on local contrast.\n",
    "\n",
    "There are many other supervised and unsupervised image segmentation techniques. This can be useful in confining individual features, foreground isolation, noise reduction, and can be useful to analyze an image more intuitively. It is a good practice for images to be segmented before building a neural network model in order to yield effective results. \n",
    "\n"
   ]
  },
  {
   "cell_type": "code",
   "execution_count": null,
   "metadata": {},
   "outputs": [],
   "source": []
  }
 ],
 "metadata": {
  "kernelspec": {
   "display_name": "Python 3",
   "language": "python",
   "name": "python3"
  },
  "language_info": {
   "codemirror_mode": {
    "name": "ipython",
    "version": 3
   },
   "file_extension": ".py",
   "mimetype": "text/x-python",
   "name": "python",
   "nbconvert_exporter": "python",
   "pygments_lexer": "ipython3",
   "version": "3.8.6"
  }
 },
 "nbformat": 4,
 "nbformat_minor": 4
}
